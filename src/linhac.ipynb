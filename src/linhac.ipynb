{
  "nbformat": 4,
  "nbformat_minor": 0,
  "metadata": {
    "colab": {
      "provenance": []
    },
    "kernelspec": {
      "name": "python3",
      "display_name": "Python 3"
    },
    "language_info": {
      "name": "python"
    }
  },
  "cells": [
    {
      "cell_type": "markdown",
      "source": [
        "## Import libraries"
      ],
      "metadata": {
        "id": "gEOjWnpmjerk"
      }
    },
    {
      "cell_type": "code",
      "source": [
        "import numpy as np\n",
        "import matplotlib.pyplot as plt\n",
        "import pandas as pd"
      ],
      "metadata": {
        "id": "7o85wD_jjfan"
      },
      "execution_count": 1,
      "outputs": []
    },
    {
      "cell_type": "markdown",
      "source": [
        "## Import dataset"
      ],
      "metadata": {
        "id": "iQHNDEngjjW6"
      }
    },
    {
      "cell_type": "code",
      "execution_count": 3,
      "metadata": {
        "id": "W64sgc2ajCPx"
      },
      "outputs": [],
      "source": [
        "dataset = pd.read_csv('/content/dataset.csv')"
      ]
    },
    {
      "cell_type": "markdown",
      "source": [
        "## Divide dataset into game sequences"
      ],
      "metadata": {
        "id": "BwzPncPCQBf-"
      }
    },
    {
      "cell_type": "code",
      "source": [
        "startIndex = -1\n",
        "endIndex = -1\n",
        "\n",
        "penaltyEvents = []\n",
        "for idx,row in dataset.iterrows():\n",
        "  if (row['eventname'] == 'faceoff') and (row['manpowersituation'] == 'powerPlay') and startIndex == -1:\n",
        "    startIndex = idx\n",
        "  elif row['eventname'] == 'faceoff' and startIndex != -1 and (row['manpowersituation'] == 'powerPlay'):\n",
        "    endIndex = idx\n",
        "    penaltyEvents.append(dataset.iloc[startIndex:endIndex])\n",
        "    startIndex = endIndex\n",
        "    endIndex = -1\n",
        "  elif row['manpowersituation'] == 'evenStrength' and startIndex != -1:\n",
        "    endIndex = idx\n",
        "    penaltyEvents.append(dataset.iloc[startIndex:endIndex])\n",
        "    startIndex = -1\n",
        "    endIndex = -1\n",
        "  \n",
        "\n"
      ],
      "metadata": {
        "id": "tcTFnRqvt-G2"
      },
      "execution_count": 4,
      "outputs": []
    },
    {
      "cell_type": "markdown",
      "source": [
        "## Divide game sequences based on faceoff results"
      ],
      "metadata": {
        "id": "S_IqE8kVQN2a"
      }
    },
    {
      "cell_type": "code",
      "source": [
        "successfullFaceOff = []\n",
        "failedFaceOff = []\n",
        "for i in range(len(penaltyEvents)):\n",
        "  df = penaltyEvents[i][penaltyEvents[i]['manpowersituation'] == 'powerPlay']\n",
        "  faceoff = df[(df['eventname'] == 'faceoff')]\n",
        "\n",
        "  if faceoff.iloc[0]['outcome'] == 'successful':\n",
        "    successfullFaceOff.append(penaltyEvents[i])\n",
        "  else:\n",
        "    failedFaceOff.append(penaltyEvents[i])"
      ],
      "metadata": {
        "id": "cpsRsslF-LX1"
      },
      "execution_count": 5,
      "outputs": []
    },
    {
      "cell_type": "markdown",
      "source": [
        "## Get total time played for both categories"
      ],
      "metadata": {
        "id": "clyDLr1oQUQ6"
      }
    },
    {
      "cell_type": "code",
      "source": [
        "successfullFaceOffTimeSum = 0\n",
        "for i in range(len(successfullFaceOff)):\n",
        "  lastEventTime = successfullFaceOff[i]['compiledgametime'].iloc[-1]\n",
        "  firstEventTime = successfullFaceOff[i]['compiledgametime'].iloc[0]\n",
        "  seqTime = lastEventTime - firstEventTime\n",
        "  successfullFaceOffTimeSum += seqTime\n",
        "\n",
        "failedFaceOffTimeSum = 0\n",
        "for i in range(len(failedFaceOff)):\n",
        "  lastEventTime = failedFaceOff[i]['compiledgametime'].iloc[-1]\n",
        "  firstEventTime = failedFaceOff[i]['compiledgametime'].iloc[0]\n",
        "  seqTime = lastEventTime - firstEventTime\n",
        "  failedFaceOffTimeSum += seqTime\n",
        "\n",
        "print(successfullFaceOffTimeSum)\n",
        "print(failedFaceOffTimeSum)"
      ],
      "metadata": {
        "colab": {
          "base_uri": "https://localhost:8080/"
        },
        "id": "WeSmOaAaLaIU",
        "outputId": "9c07fde3-a84e-4ce7-83e1-04abd9820a72"
      },
      "execution_count": 6,
      "outputs": [
        {
          "output_type": "stream",
          "name": "stdout",
          "text": [
            "7242.632830000004\n",
            "5066.566202000002\n"
          ]
        }
      ]
    },
    {
      "cell_type": "markdown",
      "source": [
        "## Get number of faceoffs"
      ],
      "metadata": {
        "id": "n7x34kPAQwYe"
      }
    },
    {
      "cell_type": "code",
      "source": [
        "print(len(successfullFaceOff))\n",
        "print(len(failedFaceOff))"
      ],
      "metadata": {
        "colab": {
          "base_uri": "https://localhost:8080/"
        },
        "id": "fXLRv2cp5MPx",
        "outputId": "03709ead-c6a8-4942-d2b9-53d3b691da78"
      },
      "execution_count": 7,
      "outputs": [
        {
          "output_type": "stream",
          "name": "stdout",
          "text": [
            "148\n",
            "96\n"
          ]
        }
      ]
    },
    {
      "cell_type": "markdown",
      "source": [
        "## Remove events of boxplay team"
      ],
      "metadata": {
        "id": "cb0A3zuKReYX"
      }
    },
    {
      "cell_type": "code",
      "source": [
        "successfullFaceOffpowerPlayTeamEvents = []\n",
        "failedFaceOffpowerPlayTeamEvents = []\n",
        "for i in range(len(successfullFaceOff)):\n",
        "  successfullFaceOffpowerPlayTeamEvents.append(successfullFaceOff[i][successfullFaceOff[i]['manpowersituation'] == 'powerPlay'])\n",
        "for i in range(len(failedFaceOff)):\n",
        "  failedFaceOffpowerPlayTeamEvents.append(failedFaceOff[i][failedFaceOff[i]['manpowersituation'] == 'powerPlay'])"
      ],
      "metadata": {
        "id": "KaNi-DtYKPcS"
      },
      "execution_count": 8,
      "outputs": []
    },
    {
      "cell_type": "markdown",
      "source": [
        "## Calculate number of goals"
      ],
      "metadata": {
        "id": "TY7m5YylRn2G"
      }
    },
    {
      "cell_type": "code",
      "source": [
        "goals = 0\n",
        "for i in range(len(successfullFaceOffpowerPlayTeamEvents)):\n",
        "  goals += len(successfullFaceOffpowerPlayTeamEvents[i][successfullFaceOffpowerPlayTeamEvents[i]['eventname'] == 'goal'])\n",
        "print(goals)\n",
        "\n",
        "failedGoals = 0\n",
        "for i in range(len(failedFaceOffpowerPlayTeamEvents)):\n",
        "  failedGoals += len(failedFaceOffpowerPlayTeamEvents[i][failedFaceOffpowerPlayTeamEvents[i]['eventname'] == 'goal'])\n",
        "print(failedGoals)"
      ],
      "metadata": {
        "colab": {
          "base_uri": "https://localhost:8080/"
        },
        "id": "V96RSC8RJAdS",
        "outputId": "da022f52-5cd4-492e-be17-92df88e00720"
      },
      "execution_count": 9,
      "outputs": [
        {
          "output_type": "stream",
          "name": "stdout",
          "text": [
            "24\n",
            "8\n"
          ]
        }
      ]
    },
    {
      "cell_type": "markdown",
      "source": [
        "## Calculate sum of xg and xg/60"
      ],
      "metadata": {
        "id": "rI62NtjkRrNq"
      }
    },
    {
      "cell_type": "code",
      "source": [
        "successfullFaceOffXgSum = 0\n",
        "failedFaceOffXgSum = 0\n",
        "\n",
        "\n",
        "for i in range(len(successfullFaceOffpowerPlayTeamEvents)):\n",
        "  successfullFaceOffXgSum+= successfullFaceOffpowerPlayTeamEvents[i]['xg'].sum()\n",
        "for i in range(len(failedFaceOffpowerPlayTeamEvents)):\n",
        "  failedFaceOffXgSum += failedFaceOffpowerPlayTeamEvents[i]['xg'].sum()\n",
        "\n",
        "xg60win = successfullFaceOffXgSum/successfullFaceOffTimeSum*3600\n",
        "xg60lose = failedFaceOffXgSum/failedFaceOffTimeSum*3600\n",
        "\n",
        "\n",
        "\n",
        "\n"
      ],
      "metadata": {
        "id": "KBgO4z6d9dYn"
      },
      "execution_count": 10,
      "outputs": []
    },
    {
      "cell_type": "markdown",
      "source": [
        "## Print stats"
      ],
      "metadata": {
        "id": "K1ideN-MSEIF"
      }
    },
    {
      "cell_type": "code",
      "source": [
        "print(\"Win xg sum: \" + str(successfullFaceOffXgSum))\n",
        "print(\"Lose xg sum: \" + str(failedFaceOffXgSum))\n",
        "\n",
        "print(\"win xg/60: \" + str(xg60win))\n",
        "print(\"lose xg/60: \" + str(xg60lose))\n",
        "print(\"Gain of winnning faceoff \" + str(xg60win/xg60lose))\n",
        "\n",
        "\n"
      ],
      "metadata": {
        "colab": {
          "base_uri": "https://localhost:8080/"
        },
        "id": "5iYlRYVwR0Tw",
        "outputId": "53611a66-dbab-49d5-9bc0-274d72327e60"
      },
      "execution_count": 11,
      "outputs": [
        {
          "output_type": "stream",
          "name": "stdout",
          "text": [
            "Win xg sum: 16.439790199976425\n",
            "Lose xg sum: 8.305947152432056\n",
            "win xg/60: 8.171509740873486\n",
            "lose xg/60: 5.901711051747823\n",
            "Gain of winnning faceoff 1.3846001048210332\n"
          ]
        }
      ]
    },
    {
      "cell_type": "markdown",
      "source": [
        "## Print graph"
      ],
      "metadata": {
        "id": "wH43Jh-ITjAS"
      }
    },
    {
      "cell_type": "code",
      "source": [
        "import matplotlib.pyplot as plt\n",
        "fig = plt.figure()\n",
        "ax = fig.add_axes([0,0,1,1])\n",
        "outcome = ['Won', 'Lost']\n",
        "xg60 = [xg60win,xg60lose]\n",
        "ax.bar(outcome,xg60)\n",
        "ax.set_ylabel('xg/60')\n",
        "ax.set_xlabel('Faceoff result')\n",
        "plt.show()"
      ],
      "metadata": {
        "colab": {
          "base_uri": "https://localhost:8080/",
          "height": 560
        },
        "id": "yufoAeFnH5lQ",
        "outputId": "1a0bafba-6894-4d1c-ffff-3e48f4bb112f"
      },
      "execution_count": 12,
      "outputs": [
        {
          "output_type": "display_data",
          "data": {
            "text/plain": [
              "<Figure size 640x480 with 1 Axes>"
            ],
            "image/png": "[encoded data removed]"
          },
          "metadata": {}
        }
      ]
    }
  ]
}